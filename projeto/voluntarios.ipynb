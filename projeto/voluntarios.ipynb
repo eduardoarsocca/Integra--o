{
 "cells": [
  {
   "cell_type": "code",
   "execution_count": 2,
   "id": "066a6a8e",
   "metadata": {},
   "outputs": [
    {
     "ename": "KeyError",
     "evalue": "'token'",
     "output_type": "error",
     "traceback": [
      "\u001b[31m---------------------------------------------------------------------------\u001b[39m",
      "\u001b[31mKeyError\u001b[39m                                  Traceback (most recent call last)",
      "\u001b[36mCell\u001b[39m\u001b[36m \u001b[39m\u001b[32mIn[2]\u001b[39m\u001b[32m, line 1\u001b[39m\n\u001b[32m----> \u001b[39m\u001b[32m1\u001b[39m \u001b[38;5;28;01mfrom\u001b[39;00m\u001b[38;5;250m \u001b[39m\u001b[34;01msessao_pt\u001b[39;00m\u001b[38;5;250m \u001b[39m\u001b[38;5;28;01mimport\u001b[39;00m auth_token, api_url, headers\n\u001b[32m      2\u001b[39m \u001b[38;5;28;01mimport\u001b[39;00m\u001b[38;5;250m \u001b[39m\u001b[34;01mpandas\u001b[39;00m\u001b[38;5;250m \u001b[39m\u001b[38;5;28;01mas\u001b[39;00m\u001b[38;5;250m \u001b[39m\u001b[34;01mpd\u001b[39;00m\n\u001b[32m      3\u001b[39m \u001b[38;5;28;01mimport\u001b[39;00m\u001b[38;5;250m \u001b[39m\u001b[34;01mrequests\u001b[39;00m\n",
      "\u001b[36mFile \u001b[39m\u001b[32me:\\OneDrive - svriglobal.com\\projetos python\\API REDCAP\\Integração\\Projeto\\sessao_pt.py:32\u001b[39m\n\u001b[32m     24\u001b[39m response = requests.post(auth_url, json = body)\n\u001b[32m     26\u001b[39m \u001b[38;5;66;03m# # Verificar a resposta\u001b[39;00m\n\u001b[32m     27\u001b[39m \u001b[38;5;66;03m# print(f\"Status Code: {response.status_code}\")\u001b[39;00m\n\u001b[32m     28\u001b[39m \u001b[38;5;66;03m# print(f\"Headers: {response.headers}\")\u001b[39;00m\n\u001b[32m     29\u001b[39m \u001b[38;5;66;03m# print(f\"Content: {response.text}\")\u001b[39;00m\n\u001b[32m     30\u001b[39m \n\u001b[32m     31\u001b[39m \u001b[38;5;66;03m# Extraindo o token\u001b[39;00m\n\u001b[32m---> \u001b[39m\u001b[32m32\u001b[39m token = \u001b[43mresponse\u001b[49m\u001b[43m.\u001b[49m\u001b[43mjson\u001b[49m\u001b[43m(\u001b[49m\u001b[43m)\u001b[49m\u001b[43m[\u001b[49m\u001b[33;43m\"\u001b[39;49m\u001b[33;43mtoken\u001b[39;49m\u001b[33;43m\"\u001b[39;49m\u001b[43m]\u001b[49m\n\u001b[32m     34\u001b[39m \u001b[38;5;66;03m# Incorporando a string Bearer para inserir\u001b[39;00m\n\u001b[32m     35\u001b[39m \u001b[38;5;28;01mif\u001b[39;00m token:\n",
      "\u001b[31mKeyError\u001b[39m: 'token'"
     ]
    }
   ],
   "source": [
    "from sessao_pt import auth_token, api_url, headers\n",
    "import pandas as pd\n",
    "import requests\n",
    "from config import config\n",
    "import os\n",
    "import json\n",
    "import dotenv"
   ]
  },
  {
   "cell_type": "code",
   "execution_count": 5,
   "id": "59b56392",
   "metadata": {},
   "outputs": [
    {
     "data": {
      "text/plain": [
       "True"
      ]
     },
     "execution_count": 5,
     "metadata": {},
     "output_type": "execute_result"
    }
   ],
   "source": [
    "dotenv.load_dotenv(override=True)"
   ]
  },
  {
   "cell_type": "code",
   "execution_count": 21,
   "id": "d0358eb0",
   "metadata": {},
   "outputs": [
    {
     "data": {
      "text/plain": [
       "Index(['id', 'nome', 'status_voluntario', 'iniciais', 'contatos',\n",
       "       'data_nascimento', 'sexo', 'interesse', 'observacoes', 'data_inclusao',\n",
       "       'interesse_texto', 'centro', 'origem_indicacao', 'termo_consentimento',\n",
       "       'co_externo', 'co_pessoa', 'email', 'nome_social', 'tel_celular',\n",
       "       'tel_residencial', 'cpf', 'cns', 'estado_civil', 'raca_cor',\n",
       "       'profissao', 'nome_do_pai', 'nome_da_mae', 'cep', 'endereco', 'bairro',\n",
       "       'cidade', 'aceita_contato'],\n",
       "      dtype='object')"
      ]
     },
     "execution_count": 21,
     "metadata": {},
     "output_type": "execute_result"
    }
   ],
   "source": [
    "# Voluntários\n",
    "voluntarios=api_url + \"/voluntarios?nested=True\"\n",
    "request_voluntarios = requests.get(voluntarios, headers=headers).json()\n",
    "dataframe_voluntarios = pd.DataFrame(request_voluntarios)\n",
    "dataframe_voluntarios.columns"
   ]
  },
  {
   "cell_type": "code",
   "execution_count": 31,
   "id": "f3c07f48",
   "metadata": {},
   "outputs": [
    {
     "name": "stdout",
     "output_type": "stream",
     "text": [
      "Conectando ao servidor...\n"
     ]
    },
    {
     "ename": "HTTPError",
     "evalue": "400 Client Error: Bad Request for url: https://svriglobal.org/redcap/api/",
     "output_type": "error",
     "traceback": [
      "\u001b[31m---------------------------------------------------------------------------\u001b[39m",
      "\u001b[31mHTTPError\u001b[39m                                 Traceback (most recent call last)",
      "\u001b[36mCell\u001b[39m\u001b[36m \u001b[39m\u001b[32mIn[31]\u001b[39m\u001b[32m, line 22\u001b[39m\n\u001b[32m     20\u001b[39m \u001b[38;5;28mprint\u001b[39m(\u001b[33m'\u001b[39m\u001b[33mConectando ao servidor...\u001b[39m\u001b[33m'\u001b[39m)\n\u001b[32m     21\u001b[39m resposta = requests.post(config[\u001b[33m'\u001b[39m\u001b[33mapi_url\u001b[39m\u001b[33m'\u001b[39m],data=payload) \u001b[38;5;66;03m#mudei de post para get\u001b[39;00m\n\u001b[32m---> \u001b[39m\u001b[32m22\u001b[39m \u001b[43mresposta\u001b[49m\u001b[43m.\u001b[49m\u001b[43mraise_for_status\u001b[49m\u001b[43m(\u001b[49m\u001b[43m)\u001b[49m  \u001b[38;5;66;03m# Verifica se a requisição foi bem sucedida\u001b[39;00m\n",
      "\u001b[36mFile \u001b[39m\u001b[32md:\\OneDrive - svriglobal.com\\projetos python\\API REDCAP\\Integração\\.venv\\Lib\\site-packages\\requests\\models.py:1026\u001b[39m, in \u001b[36mResponse.raise_for_status\u001b[39m\u001b[34m(self)\u001b[39m\n\u001b[32m   1021\u001b[39m     http_error_msg = (\n\u001b[32m   1022\u001b[39m         \u001b[33mf\u001b[39m\u001b[33m\"\u001b[39m\u001b[38;5;132;01m{\u001b[39;00m\u001b[38;5;28mself\u001b[39m.status_code\u001b[38;5;132;01m}\u001b[39;00m\u001b[33m Server Error: \u001b[39m\u001b[38;5;132;01m{\u001b[39;00mreason\u001b[38;5;132;01m}\u001b[39;00m\u001b[33m for url: \u001b[39m\u001b[38;5;132;01m{\u001b[39;00m\u001b[38;5;28mself\u001b[39m.url\u001b[38;5;132;01m}\u001b[39;00m\u001b[33m\"\u001b[39m\n\u001b[32m   1023\u001b[39m     )\n\u001b[32m   1025\u001b[39m \u001b[38;5;28;01mif\u001b[39;00m http_error_msg:\n\u001b[32m-> \u001b[39m\u001b[32m1026\u001b[39m     \u001b[38;5;28;01mraise\u001b[39;00m HTTPError(http_error_msg, response=\u001b[38;5;28mself\u001b[39m)\n",
      "\u001b[31mHTTPError\u001b[39m: 400 Client Error: Bad Request for url: https://svriglobal.org/redcap/api/"
     ]
    }
   ],
   "source": [
    "#!/usr/bin/env python\n",
    "\n",
    "from config import config\n",
    "import requests\n",
    "import json\n",
    "import pandas as pd\n",
    "\n",
    "#Requisição para o conteúdo do projeto de integração\n",
    "## Conteúdo extraído\n",
    "payload = {\n",
    "    'token': config['api_token'],\n",
    "    'content': 'exportFieldNames', #Todas as variáveis do projeto no redcap\n",
    "    'format': 'json',\n",
    "    # 'type': 'flat', #Formato de saída\n",
    "    'field': ['record_id','demografia_nome, demografia_iniciais'], #Campos de interesse\n",
    "    # 'returnFormat': 'json' #Formato de retorno\n",
    "}\n",
    "\n",
    "#Verificando a conexão com o servidor e extraindo os campos desejados\n",
    "print('Conectando ao servidor...')\n",
    "resposta = requests.post(config['api_url'],data=payload) #mudei de post para get\n",
    "resposta.raise_for_status()  # Verifica se a requisição foi bem sucedida\n"
   ]
  },
  {
   "cell_type": "code",
   "execution_count": null,
   "id": "2f5cb6c5",
   "metadata": {},
   "outputs": [],
   "source": [
    "if resposta.status_code == 200:\n",
    "    print('Conexão bem sucedida!')\n",
    "    registro = resposta.json()\n",
    "    # Lendo o json com o pandas\n",
    "    data = pd.DataFrame(registro)\n",
    "    print('Campos extraídos com sucesso!')\n",
    "    print(data)  # Exibe as primeiras linhas do DataFrame\n",
    "    print(f\"Extraídos {len(registro)} registros do REDCap.\")"
   ]
  }
 ],
 "metadata": {
  "kernelspec": {
   "display_name": ".venv (3.13.5)",
   "language": "python",
   "name": "python3"
  },
  "language_info": {
   "codemirror_mode": {
    "name": "ipython",
    "version": 3
   },
   "file_extension": ".py",
   "mimetype": "text/x-python",
   "name": "python",
   "nbconvert_exporter": "python",
   "pygments_lexer": "ipython3",
   "version": "3.13.5"
  }
 },
 "nbformat": 4,
 "nbformat_minor": 5
}
